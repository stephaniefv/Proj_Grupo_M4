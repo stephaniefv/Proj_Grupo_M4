# CONTEXTO 
Você e a sua equipe foram escalados pela Agência Nacional de Petróleo e Gás Natural e
Biocombustíveis (ANP) para realizar uma análise exploratória relacionada à série
histórica de preço de venda da gasolina e do etanol. 

As fontes de dados que serão utilizadas no projeto estão
disponíveis no portal gov.br. Serão utilizados os arquivos
dos dois últimos meses do ano atual (Etanol Hidratado +
Gasolina C) contendo a série histórica dos preços da
gasolina e do etanol em todo o Brasil.

https://www.gov.br/anp/pt-br/centrais-de-conteudo/dados-abertos/serie-historica-de-precos-de-combustiveis
